{
 "cells": [
  {
   "cell_type": "markdown",
   "id": "d3df79dd",
   "metadata": {},
   "source": [
    "## Упражнения по библиотеке Numpy"
   ]
  },
  {
   "cell_type": "code",
   "execution_count": 2,
   "id": "76b9c43b",
   "metadata": {},
   "outputs": [],
   "source": [
    "import numpy as np"
   ]
  },
  {
   "cell_type": "markdown",
   "id": "03727b7c",
   "metadata": {},
   "source": [
    "**1.** Дан случайный массив, поменять знак у элементов, значения которых между 3 и 8"
   ]
  },
  {
   "cell_type": "code",
   "execution_count": 10,
   "id": "b89a7523",
   "metadata": {},
   "outputs": [
    {
     "name": "stdout",
     "output_type": "stream",
     "text": [
      "[ 6  0  5  9  1  7  7  6  7 10  5  7  7  2  2  2  7  7 10  1]\n",
      "[-6  0 -5  9  1 -7 -7 -6 -7 10 -5 -7 -7  2  2  2 -7 -7 10  1]\n"
     ]
    }
   ],
   "source": [
    "array = np.random.randint(0, 11, size=20) #создали массив со знач. от 0 до 10, в объеме 20 элементов\n",
    "print(array)\n",
    "\n",
    "mask = (array > 3) & (array < 8) #булев массив (маска) с условием (булевая индексация - помогает манипулировать элементами массива)\n",
    "array[mask] = array[mask] * -1 # применяем операцию к тем значениям соответствующие True по указанному условию в маске\n",
    "print(array)"
   ]
  },
  {
   "cell_type": "markdown",
   "id": "5fa4abda",
   "metadata": {},
   "source": [
    "**2.** Заменить максимальный элемент случайного массива на 0"
   ]
  },
  {
   "cell_type": "code",
   "execution_count": 19,
   "id": "f2788a6e",
   "metadata": {},
   "outputs": [
    {
     "name": "stdout",
     "output_type": "stream",
     "text": [
      "[4 4 5 0 2 3 5 4 2 0]\n",
      "[4 4 0 0 2 3 0 4 2 0]\n"
     ]
    }
   ],
   "source": [
    "array = np.random.randint(0, 6, size=10)\n",
    "print(array)\n",
    "\n",
    "max_value = np.max(array) # находим максимальное значение в массиве\n",
    "array[array == max_value] = 0 # Находим все элементы, равные максимальному значению, и заменяем их на 0\n",
    "print(array)"
   ]
  },
  {
   "cell_type": "markdown",
   "id": "3cac656b",
   "metadata": {},
   "source": [
    "**3.** Построить прямое произведение массивов (все комбинации с каждым элементом). На вход подается двумерный массив"
   ]
  },
  {
   "cell_type": "code",
   "execution_count": 11,
   "id": "3396b764",
   "metadata": {},
   "outputs": [
    {
     "name": "stdout",
     "output_type": "stream",
     "text": [
      "[[ 2 10]\n",
      " [ 4  8]]\n",
      "((2, 4), (2, 8), (10, 4), (10, 8))\n",
      "[[ 2  4]\n",
      " [10  4]\n",
      " [ 2  8]\n",
      " [10  8]]\n"
     ]
    }
   ],
   "source": [
    "a = np.array([[2, 10], [4, 8]])\n",
    "print(a)\n",
    "\n",
    "# метод 1 - itertools.product\n",
    "import itertools\n",
    "print(tuple(itertools.product(*a)))\n",
    "\n",
    "# метод 2 - meshgrid\n",
    "print(np.dstack(np.meshgrid(*a)).reshape(4, 2))"
   ]
  },
  {
   "cell_type": "markdown",
   "id": "674c9354",
   "metadata": {},
   "source": [
    "**4.** Даны 2 массива A (8x3) и B (2x2). Найти строки в A, которые содержат элементы из каждой строки в B, независимо от порядка элементов в B"
   ]
  },
  {
   "cell_type": "code",
   "execution_count": null,
   "id": "9bd5947a",
   "metadata": {},
   "outputs": [],
   "source": []
  },
  {
   "cell_type": "code",
   "execution_count": 44,
   "id": "cb664782",
   "metadata": {},
   "outputs": [
    {
     "name": "stdout",
     "output_type": "stream",
     "text": [
      "Индексы строк в A, содержащих элементы из каждой строки B: [0, 1, 2]\n",
      "Строки в A, содержащие элементы из каждой строки B:\n",
      "[[10 20 30]\n",
      " [20 30 40]\n",
      " [30 10 20]]\n"
     ]
    }
   ],
   "source": [
    "A = np.array([[10, 20, 30],\n",
    "              [20, 30, 40],\n",
    "              [30, 10, 20],\n",
    "              [40, 50, 60],\n",
    "              [50, 60, 70],\n",
    "              [60, 40, 50],\n",
    "              [70, 80, 90],\n",
    "              [80, 90, 100]])\n",
    "\n",
    "B = np.array([[20, 30],\n",
    "               [6, 40]])\n",
    "\n",
    "def contains_all_elements(a, b):\n",
    "    # содержит ли A все элементы из b, независимо от порядка\n",
    "    return set(b).issubset(set(a))\n",
    "\n",
    "def find_matching_rows(A, B):\n",
    "    result = []\n",
    "    for i in range(len(A)):\n",
    "        if contains_all_elements(A[i], B[0]) or contains_all_elements(A[i], B[1]):\n",
    "            result.append(i)\n",
    "    return result\n",
    "\n",
    "result = find_matching_rows(A, B)\n",
    "\n",
    "print(\"Индексы строк в A, содержащих элементы из каждой строки B:\", result)\n",
    "\n",
    "# Для проверки выведем сами строки A, удовлетворяющие условию\n",
    "print(\"Строки в A, содержащие элементы из каждой строки B:\")\n",
    "print(A[result])"
   ]
  },
  {
   "cell_type": "markdown",
   "id": "fa46533b",
   "metadata": {},
   "source": [
    "**5.** Дана 10x3 матрица, найти строки из неравных значений (например строка [2,2,3] остается, строка [3,3,3] удаляется)"
   ]
  },
  {
   "cell_type": "code",
   "execution_count": 69,
   "id": "fa545b23",
   "metadata": {
    "scrolled": true
   },
   "outputs": [
    {
     "name": "stdout",
     "output_type": "stream",
     "text": [
      "[[2 2 1]\n",
      " [1 1 1]\n",
      " [2 1 1]\n",
      " [1 2 1]\n",
      " [1 2 2]\n",
      " [2 1 2]\n",
      " [1 1 1]\n",
      " [2 2 2]\n",
      " [1 2 1]\n",
      " [2 2 2]]\n",
      "[array([1, 1, 1])]\n",
      "[array([1, 1, 1])]\n",
      "[array([2, 2, 2])]\n",
      "[array([2, 2, 2])]\n"
     ]
    }
   ],
   "source": [
    "matrix = np.random.randint(1, 3, size = (10, 3))\n",
    "print(matrix)\n",
    "\n",
    "for i in matrix:\n",
    "    list_1 = []\n",
    "    if (i[0] == i[1] and i[1] == i[2]):\n",
    "        list_1.append(i)\n",
    "    else:\n",
    "        continue\n",
    "    print(list_1)"
   ]
  },
  {
   "cell_type": "markdown",
   "id": "28f0d116",
   "metadata": {},
   "source": [
    "**6.** Дан двумерный массив. Удалить те строки, которые повторяются"
   ]
  },
  {
   "cell_type": "code",
   "execution_count": 61,
   "id": "83d2c0b7",
   "metadata": {},
   "outputs": [
    {
     "name": "stdout",
     "output_type": "stream",
     "text": [
      "[[1 2]\n",
      " [1 1]\n",
      " [1 1]\n",
      " [1 2]]\n",
      "{(1, 1), (1, 2)}\n"
     ]
    }
   ],
   "source": [
    "matrix = np.random.randint(1, 3, size = (4, 2))\n",
    "print(matrix)\n",
    "\n",
    "x = set()\n",
    "\n",
    "for i in matrix:\n",
    "    tuple_i = tuple(i)\n",
    "    if tuple_i not in x:\n",
    "        x.add(tuple_i)\n",
    "print(x)"
   ]
  },
  {
   "cell_type": "markdown",
   "id": "6daa9e37",
   "metadata": {},
   "source": [
    "______\n",
    "______"
   ]
  },
  {
   "cell_type": "markdown",
   "id": "cfbfcaff",
   "metadata": {},
   "source": [
    "Для каждой из следующих задач (1-5) нужно привести 2 реализации – одна без использования numpy (cчитайте, что там, где на входе или выходе должны быть numpy array, будут просто списки), а вторая полностью векторизованная с использованием numpy (без использования питоновских циклов/map/list comprehension).\n",
    "\n",
    "\n",
    "__Замечание 1.__ Можно считать, что все указанные объекты непустые (к примеру, в __задаче 1__ на диагонали матрицы есть ненулевые элементы).\n",
    "\n",
    "__Замечание 2.__ Для большинства задач решение занимает не больше 1-2 строк."
   ]
  },
  {
   "cell_type": "markdown",
   "id": "673cac7f",
   "metadata": {},
   "source": [
    "___"
   ]
  },
  {
   "cell_type": "markdown",
   "id": "ca6f585e",
   "metadata": {},
   "source": [
    "* __Задача 1__: Подсчитать произведение ненулевых элементов на диагонали прямоугольной матрицы.  \n",
    " Например, для X = np.array([[1, 0, 1], [2, 0, 2], [3, 0, 3], [4, 4, 4]]) ответ 3."
   ]
  },
  {
   "cell_type": "code",
   "execution_count": 4,
   "id": "065862fc",
   "metadata": {},
   "outputs": [
    {
     "name": "stdout",
     "output_type": "stream",
     "text": [
      "6\n",
      "6\n"
     ]
    }
   ],
   "source": [
    "matrix = [[1, 0, 1], [2, 2, 2], [3, 0, 3], [4, 4, 4]]\n",
    "\n",
    "result = 1\n",
    "# Python classic\n",
    "for i in range(3):\n",
    "    if matrix[i][i] != 0:\n",
    "        result *= matrix[i][i]\n",
    "print(result)\n",
    "\n",
    "#NumPy\n",
    "diagonal_el = np.diag(matrix) # получение диагональных элементов матрицы\n",
    "print(np.prod(diagonal_el[diagonal_el != 0])) # prod - вычисление указанных элементов диагонали (по условию)"
   ]
  },
  {
   "cell_type": "markdown",
   "id": "9fc51d41",
   "metadata": {},
   "source": [
    "* __Задача 2__: Даны два вектора x и y. Проверить, задают ли они одно и то же мультимножество.  \n",
    "  Например, для x = np.array([1, 2, 2, 4]), y = np.array([4, 2, 1, 2]) ответ True."
   ]
  },
  {
   "cell_type": "code",
   "execution_count": 6,
   "id": "a809e02f",
   "metadata": {},
   "outputs": [
    {
     "name": "stdout",
     "output_type": "stream",
     "text": [
      "True\n",
      "True\n"
     ]
    }
   ],
   "source": [
    "#Python Classic\n",
    "X = [1, 2, 2, 4]\n",
    "Y = [4, 2, 1, 2]\n",
    "\n",
    "X.sort()\n",
    "Y.sort()\n",
    "\n",
    "print(X == Y) #сравниваем отсортированные списки\n",
    "\n",
    "#NumPy\n",
    "x = np.array([1, 2, 2, 4])\n",
    "y = np.array([4, 2, 1, 2])\n",
    "print(np.array_equal(np.sort(x), (np.sort(y)))) #сортируем массивы и проверяем таким образом на соответствие условию"
   ]
  },
  {
   "cell_type": "markdown",
   "id": "b9c185c7",
   "metadata": {},
   "source": [
    "* __Задача 3__: Найти максимальный элемент в векторе x среди элементов, перед которыми стоит ноль. \n",
    " Например, для x = np.array([6, 2, 0, 3, 0, 0, 5, 7, 0]) ответ 5."
   ]
  },
  {
   "cell_type": "code",
   "execution_count": 5,
   "id": "b57df008",
   "metadata": {},
   "outputs": [
    {
     "name": "stdout",
     "output_type": "stream",
     "text": [
      "5\n",
      "5\n"
     ]
    }
   ],
   "source": [
    "#Python Classic\n",
    "x = [6, 2, 0, 3, 0, 0, 5, 7, 0]\n",
    "x_num = np.array(x)\n",
    "\n",
    "result = 0\n",
    "\n",
    "for i in range(len(x) - 1):\n",
    "    if x[i] == 0 and (x[i+1] >= result):\n",
    "        result = x[i+1]\n",
    "\n",
    "print(result)\n",
    "\n",
    "#NumPy\n",
    "ind = np.where(x_num[:-1] == 0)[0] + 1 # находим индексы элементов = 0, далее определяем элементы стоящие после нулей.\n",
    "result_ = np.max(x_num[ind]) # находим макс элемент из извлеченных\n",
    "\n",
    "print(result_)\n",
    "\n",
    "# x[:-1] извлекаем все элементы массива, кроме последнего\n"
   ]
  },
  {
   "cell_type": "markdown",
   "id": "480be4ce",
   "metadata": {},
   "source": [
    "* __Задача 4__: Реализовать кодирование длин серий (Run-length encoding). Для некоторого вектора x необходимо вернуть кортеж из двух векторов одинаковой длины. Первый содержит числа, а второй - сколько раз их нужно повторить.  \n",
    " Например, для x = np.array([2, 2, 2, 3, 3, 3, 5]) ответ (np.array([2, 3, 5]), np.array([3, 3, 1]))."
   ]
  },
  {
   "cell_type": "code",
   "execution_count": 9,
   "id": "3c592124",
   "metadata": {},
   "outputs": [
    {
     "name": "stdout",
     "output_type": "stream",
     "text": [
      "[2, 3, 5]\n",
      "[3, 3, 1]\n",
      "[2 3 5]\n",
      "[3 3 1]\n"
     ]
    }
   ],
   "source": [
    "x = [2, 2, 2, 3, 3, 3, 5]\n",
    "\n",
    "values = []\n",
    "counts = []\n",
    "\n",
    "current_value = None\n",
    "current_count = 0\n",
    "\n",
    "for i in x:\n",
    "    if i != current_value:\n",
    "        if current_value is not None:\n",
    "            values.append(current_value)\n",
    "            counts.append(current_count)\n",
    "        current_value = i\n",
    "        current_count = 1\n",
    "    else:\n",
    "        current_count += 1\n",
    "\n",
    "if current_value is not None:\n",
    "    values.append(current_value)\n",
    "    counts.append(current_count)\n",
    "    \n",
    "print(values)\n",
    "print(counts)\n",
    "\n",
    "#NumPy\n",
    "values, counts = np.unique(x, return_counts=True) #возвращает два массива 1) уник элементы 2) кол-во этих элементов\n",
    "\n",
    "print(values)\n",
    "print(counts)"
   ]
  },
  {
   "cell_type": "markdown",
   "id": "077532ec",
   "metadata": {},
   "source": [
    "* __Задача 5__: Даны две выборки объектов - X и Y. Вычислить матрицу евклидовых расстояний между объектами. Сравните с функцией scipy.spatial.distance.cdist по скорости работы."
   ]
  },
  {
   "cell_type": "code",
   "execution_count": 160,
   "id": "1e807797",
   "metadata": {},
   "outputs": [],
   "source": [
    "# your code"
   ]
  },
  {
   "cell_type": "markdown",
   "id": "973e8064",
   "metadata": {},
   "source": [
    "_______\n",
    "________"
   ]
  },
  {
   "cell_type": "markdown",
   "id": "1104acb7",
   "metadata": {},
   "source": [
    "* #### __Задача 6__: CrunchieMunchies __*__\n",
    "\n",
    "Вы работаете в отделе маркетинга пищевой компании MyCrunch, которая разрабатывает новый вид вкусных, полезных злаков под названием **CrunchieMunchies**.\n",
    "\n",
    "Вы хотите продемонстрировать потребителям, насколько полезны ваши хлопья по сравнению с другими ведущими брендами, поэтому вы собрали данные о питании нескольких разных конкурентов.\n",
    "\n",
    "Ваша задача - использовать вычисления Numpy для анализа этих данных и доказать, что ваши **СrunchieMunchies** - самый здоровый выбор для потребителей.\n"
   ]
  },
  {
   "cell_type": "code",
   "execution_count": 3,
   "id": "10a77f8d",
   "metadata": {},
   "outputs": [],
   "source": [
    "import numpy as np"
   ]
  },
  {
   "cell_type": "markdown",
   "id": "ab87cb03",
   "metadata": {},
   "source": [
    "1. Просмотрите файл cereal.csv. Этот файл содержит количества калорий для различных марок хлопьев. Загрузите данные из файла и сохраните их как calorie_stats."
   ]
  },
  {
   "cell_type": "code",
   "execution_count": 5,
   "id": "9681ebf2",
   "metadata": {},
   "outputs": [
    {
     "data": {
      "text/plain": [
       "array([ 70., 120.,  70.,  50., 110., 110., 110., 130.,  90.,  90., 120.,\n",
       "       110., 120., 110., 110., 110., 100., 110., 110., 110., 100., 110.,\n",
       "       100., 100., 110., 110., 100., 120., 120., 110., 100., 110., 100.,\n",
       "       110., 120., 120., 110., 110., 110., 140., 110., 100., 110., 100.,\n",
       "       150., 150., 160., 100., 120., 140.,  90., 130., 120., 100.,  50.,\n",
       "        50., 100., 100., 120., 100.,  90., 110., 110.,  80.,  90.,  90.,\n",
       "       110., 110.,  90., 110., 140., 100., 110., 110., 100., 100., 110.])"
      ]
     },
     "execution_count": 5,
     "metadata": {},
     "output_type": "execute_result"
    }
   ],
   "source": [
    "calorie_stats = np.loadtxt(\"C:/Users/User/Downloads/cereal.csv\", delimiter=\",\")\n",
    "calorie_stats"
   ]
  },
  {
   "cell_type": "markdown",
   "id": "139cfbd8",
   "metadata": {},
   "source": [
    "2. В одной порции CrunchieMunchies содержится 60 калорий. Насколько выше среднее количество калорий у ваших конкурентов?\n",
    "\n",
    "Сохраните ответ в переменной average_calories и распечатайте переменную в терминале"
   ]
  },
  {
   "cell_type": "code",
   "execution_count": 6,
   "id": "7036d240",
   "metadata": {},
   "outputs": [
    {
     "name": "stdout",
     "output_type": "stream",
     "text": [
      "Среднее значение массива: 106.88311688311688\n",
      "46.883116883116884\n"
     ]
    }
   ],
   "source": [
    "avg = np.mean(calorie_stats) # ср знач массива\n",
    "CM = 60\n",
    "print(f'Среднее значение массива: {avg}')\n",
    "print(avg - CM)"
   ]
  },
  {
   "cell_type": "markdown",
   "id": "b2ddb4cd",
   "metadata": {},
   "source": [
    "3. Корректно ли среднее количество калорий отражает распределение набора данных? Давайте отсортируем данные и посмотрим.\n",
    "\n",
    "Отсортируйте данные и сохраните результат в переменной calorie_stats_sorted. Распечатайте отсортированную информацию"
   ]
  },
  {
   "cell_type": "code",
   "execution_count": 7,
   "id": "46eeb4ed",
   "metadata": {},
   "outputs": [
    {
     "name": "stdout",
     "output_type": "stream",
     "text": [
      "[ 50.  50.  50.  70.  70.  80.  90.  90.  90.  90.  90.  90.  90. 100.\n",
      " 100. 100. 100. 100. 100. 100. 100. 100. 100. 100. 100. 100. 100. 100.\n",
      " 100. 100. 110. 110. 110. 110. 110. 110. 110. 110. 110. 110. 110. 110.\n",
      " 110. 110. 110. 110. 110. 110. 110. 110. 110. 110. 110. 110. 110. 110.\n",
      " 110. 110. 110. 120. 120. 120. 120. 120. 120. 120. 120. 120. 120. 130.\n",
      " 130. 140. 140. 140. 150. 150. 160.]\n"
     ]
    }
   ],
   "source": [
    "calorie_stats_sorted = np.sort(calorie_stats)\n",
    "print(calorie_stats_sorted)"
   ]
  },
  {
   "cell_type": "markdown",
   "id": "4dc74116",
   "metadata": {},
   "source": [
    "4. Похоже, что большинство значений выше среднего. Давайте посмотрим, является ли медиана наиболее корректным показателем набора данных.\n",
    "\n",
    "Вычислите медиану набора данных и сохраните свой ответ в median_calories. Выведите медиану, чтобы вы могли видеть, как она сравнивается со средним значением."
   ]
  },
  {
   "cell_type": "code",
   "execution_count": 8,
   "id": "b56627c3",
   "metadata": {},
   "outputs": [
    {
     "name": "stdout",
     "output_type": "stream",
     "text": [
      "Медиана массива: 110.0\n",
      "Среднее значение массива: 106.88\n"
     ]
    }
   ],
   "source": [
    "median_calories = np.median(calorie_stats)\n",
    "print(f'Медиана массива: {median_calories}')\n",
    "print(f'Среднее значение массива: {round(avg, 2)}')"
   ]
  },
  {
   "cell_type": "markdown",
   "id": "a63ab72f",
   "metadata": {},
   "source": [
    "5. В то время как медиана показывает, что по крайней мере половина наших значений составляет более 100 калорий, было бы более впечатляюще показать, что значительная часть конкурентов имеет более высокое количество калорий, чем CrunchieMunchies.\n",
    "\n",
    "Рассчитайте различные процентили и распечатайте их, пока не найдете наименьший процентиль, превышающий 60 калорий. Сохраните это значение в переменной nth_percentile."
   ]
  },
  {
   "cell_type": "code",
   "execution_count": 9,
   "id": "fe80ce03",
   "metadata": {},
   "outputs": [
    {
     "name": "stdout",
     "output_type": "stream",
     "text": [
      "60.16\n",
      "70.0\n",
      "90.0\n",
      "110.0\n",
      "160.0\n"
     ]
    }
   ],
   "source": [
    "print(np.percentile(calorie_stats_sorted, 3.3))\n",
    "print(np.percentile(calorie_stats_sorted, 5))\n",
    "print(np.percentile(calorie_stats_sorted, 10))\n",
    "print(np.percentile(calorie_stats_sorted, 50))\n",
    "print(np.percentile(calorie_stats_sorted, 100))\n",
    "\n",
    "# Процентиль набора данных — значение, которое отсекает первые n процентов значений данных, \n",
    "# когда все значения отсортированы от наименьшего к наибольшему. То есть 3.3% данных имеют значение до 60.16"
   ]
  },
  {
   "cell_type": "markdown",
   "id": "a2a3c5aa",
   "metadata": {},
   "source": [
    "6. Хотя процентиль показывает нам, что у большинства конкурентов количество калорий намного выше, это неудобная концепция для использования в маркетинговых материалах.\n",
    "\n",
    "Вместо этого давайте подсчитаем процент хлопьев, в которых содержится более 60 калорий на порцию. Сохраните свой ответ в переменной more_calories и распечатайте его"
   ]
  },
  {
   "cell_type": "code",
   "execution_count": 13,
   "id": "ade0f6ea",
   "metadata": {},
   "outputs": [
    {
     "name": "stdout",
     "output_type": "stream",
     "text": [
      "0.96\n"
     ]
    }
   ],
   "source": [
    "more_calories = np.sum(calorie_stats > 60) / np.size(calorie_stats)\n",
    "print(more_calories.round(2))"
   ]
  },
  {
   "cell_type": "markdown",
   "id": "1735d65b",
   "metadata": {},
   "source": [
    "7. Это действительно высокий процент. Это будет очень полезно, когда мы будем продвигать CrunchieMunchies. Но один вопрос заключается в том, насколько велики различия в наборе данных? Можем ли мы сделать обобщение, что в большинстве злаков содержится около 100 калорий или разброс еще больше?\n",
    "\n",
    "Рассчитайте величину отклонения, найдя стандартное отклонение, Сохраните свой ответ в calorie_std и распечатайте на терминале. Как мы можем включить эту ценность в наш анализ?"
   ]
  },
  {
   "cell_type": "code",
   "execution_count": 20,
   "id": "85c8df1f",
   "metadata": {},
   "outputs": [
    {
     "data": {
      "text/plain": [
       "19.35718533390827"
      ]
     },
     "execution_count": 20,
     "metadata": {},
     "output_type": "execute_result"
    }
   ],
   "source": [
    "calorie_std = np.std(calorie_stats)\n",
    "calorie_std\n",
    "# ст. отклонение (19.4) относительное среднего зачения (107) - довольно невелико. \n",
    "# Это говорит о том что калорийность хлопьев на рынке не сильно варируется от ср. значения 107."
   ]
  },
  {
   "cell_type": "markdown",
   "id": "037455c5",
   "metadata": {},
   "source": [
    "8. Напишите короткий абзац, в котором кратко изложите свои выводы и то, как, по вашему мнению, эти данные могут быть использованы в интересах Mycrunch при маркетинге CrunchieMunchies."
   ]
  },
  {
   "cell_type": "code",
   "execution_count": 21,
   "id": "c260fee9",
   "metadata": {},
   "outputs": [],
   "source": [
    "import seaborn as sns"
   ]
  },
  {
   "cell_type": "code",
   "execution_count": 24,
   "id": "8438b130",
   "metadata": {},
   "outputs": [
    {
     "data": {
      "text/plain": [
       "<AxesSubplot:ylabel='Count'>"
      ]
     },
     "execution_count": 24,
     "metadata": {},
     "output_type": "execute_result"
    },
    {
     "data": {
      "image/png": "[encoded data removed]",
      "text/plain": [
       "<Figure size 432x288 with 1 Axes>"
      ]
     },
     "metadata": {
      "needs_background": "light"
     },
     "output_type": "display_data"
    }
   ],
   "source": [
    "sns.histplot(calorie_stats)"
   ]
  },
  {
   "cell_type": "code",
   "execution_count": null,
   "id": "d73d9bfd",
   "metadata": {},
   "outputs": [],
   "source": [
    "Колорийность хлопьев CrunchieMunchies меньше чем у 96% аналогов. \n",
    "Мы наглядно можем это увидеть на гистограмме распределения, она, кстати, имеет признаки распределения Гаусса.\n",
    "Все же продукт содержит на 47 калорий меньше от средней порции хлопьев на рынке.\n",
    "Соотвественно, наши хлопья сильно выделяются на фоне конкурентов в сторону низкоколорийного продукта - ...\n",
    "... что является очевидным преимуществом которое нам стоит подсветить потенциальным покупателям в маркетинговой кампании.\n",
    "И при этом, желательно ссылаться на сухие цифры [для убедительности :) ]"
   ]
  },
  {
   "cell_type": "code",
   "execution_count": null,
   "id": "af645967",
   "metadata": {},
   "outputs": [],
   "source": []
  }
 ],
 "metadata": {
  "kernelspec": {
   "display_name": "Python 3 (ipykernel)",
   "language": "python",
   "name": "python3"
  },
  "language_info": {
   "codemirror_mode": {
    "name": "ipython",
    "version": 3
   },
   "file_extension": ".py",
   "mimetype": "text/x-python",
   "name": "python",
   "nbconvert_exporter": "python",
   "pygments_lexer": "ipython3",
   "version": "3.10.12"
  }
 },
 "nbformat": 4,
 "nbformat_minor": 5
}
